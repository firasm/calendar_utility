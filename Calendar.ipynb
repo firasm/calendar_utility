{
 "cells": [
  {
   "cell_type": "code",
   "execution_count": 3,
   "metadata": {},
   "outputs": [],
   "source": [
    "from ics import Calendar, Event\n",
    "c = Calendar()\n",
    "e = Event()\n",
    "e.name = \"My cool event\"\n",
    "e.begin = '2021-02-01 00:00:00'\n",
    "c.events.add(e)\n",
    "c.events\n",
    "# [<Event 'My cool event' begin:2014-01-01 00:00:00 end:2014-01-01 00:00:01>]\n",
    "with open('my.ics', 'w') as my_file:\n",
    "    my_file.writelines(c)"
   ]
  },
  {
   "cell_type": "markdown",
   "metadata": {},
   "source": [
    "## Converting things to UTC"
   ]
  },
  {
   "cell_type": "code",
   "execution_count": 39,
   "metadata": {},
   "outputs": [],
   "source": [
    "from datetime import datetime\n",
    "from dateutil import tz"
   ]
  },
  {
   "cell_type": "code",
   "execution_count": 40,
   "metadata": {},
   "outputs": [],
   "source": [
    "dt_now = datetime.now(tz=tz.gettz('Canada/Pacific'))"
   ]
  },
  {
   "cell_type": "code",
   "execution_count": 44,
   "metadata": {},
   "outputs": [
    {
     "data": {
      "text/plain": [
       "'2020-08-23 23:01:55'"
      ]
     },
     "execution_count": 44,
     "metadata": {},
     "output_type": "execute_result"
    }
   ],
   "source": [
    "dt_now.strftime(\"%Y-%m-%d %H:%M:%S\")"
   ]
  },
  {
   "cell_type": "code",
   "execution_count": 47,
   "metadata": {},
   "outputs": [
    {
     "data": {
      "text/plain": [
       "datetime.datetime(2020, 8, 23, 23, 1, 55)"
      ]
     },
     "execution_count": 47,
     "metadata": {},
     "output_type": "execute_result"
    }
   ],
   "source": [
    "datetime.strptime('2020-08-23 23:01:55', '%Y-%m-%d %H:%M:%S')"
   ]
  },
  {
   "cell_type": "markdown",
   "metadata": {},
   "source": [
    "## Try the whole thing now"
   ]
  },
  {
   "cell_type": "code",
   "execution_count": 63,
   "metadata": {},
   "outputs": [
    {
     "name": "stdout",
     "output_type": "stream",
     "text": [
      "2021-02-01 00:00:00-08:00\n"
     ]
    }
   ],
   "source": [
    "date_format = '%Y-%m-%d %H:%M:%S'\n",
    "due = '2021-02-01 00:00:00'\n",
    "\n",
    "due_dt_PDT = datetime.strptime(due,date_format).replace(tzinfo=tz.gettz('Canada/Pacific'))\n",
    "\n",
    "print(due_dt_PDT)"
   ]
  },
  {
   "cell_type": "code",
   "execution_count": 76,
   "metadata": {},
   "outputs": [
    {
     "name": "stdout",
     "output_type": "stream",
     "text": [
      "2021-02-01 08:00:00+00:00\n"
     ]
    }
   ],
   "source": [
    "due_dt_UTC = due_dt_PDT.astimezone(tz.tzutc())\n",
    "print(due_dt_UTC)"
   ]
  },
  {
   "cell_type": "code",
   "execution_count": 67,
   "metadata": {},
   "outputs": [],
   "source": [
    "from ics import Calendar, Event\n",
    "c = Calendar()\n",
    "e = Event()\n",
    "e.name = \"My cool event\"\n",
    "e.begin = due_dt_UTC.strftime(date_format)\n",
    "c.events.add(e)\n",
    "c.events\n",
    "# [<Event 'My cool event' begin:2014-01-01 00:00:00 end:2014-01-01 00:00:01>]\n",
    "with open('my.ics', 'w') as my_file:\n",
    "    my_file.writelines(c)"
   ]
  },
  {
   "cell_type": "code",
   "execution_count": null,
   "metadata": {},
   "outputs": [],
   "source": []
  },
  {
   "cell_type": "markdown",
   "metadata": {},
   "source": [
    "## Function to deal with time zones and datetimes"
   ]
  },
  {
   "cell_type": "code",
   "execution_count": 78,
   "metadata": {},
   "outputs": [],
   "source": [
    "from datetime import datetime\n",
    "from dateutil import tz\n",
    "\n",
    "date_format = '%Y-%m-%d %H:%M:%S' # Format the ics module expects the dates to be in\n",
    "due = '2021-02-01 00:00:00'       # Sample date that needs to be converted to UTC (Currently in Canada/Pacific time zone)\n",
    "\n",
    "# First let's convert this to a datetime object in the Canada/Pacific Time zone\n",
    "due_dt = datetime.strptime(due,date_format).replace(tzinfo=tz.gettz('Canada/Pacific'))\n",
    "\n",
    "# Then let's convert the date to UTC so ics can handle it correctly\n",
    "due_dt = due_dt.astimezone(tz.tzutc())\n",
    "\n",
    "# Now let's run the example in the documentation\n",
    "from ics import Calendar, Event\n",
    "c = Calendar()\n",
    "e = Event()\n",
    "e.name = \"My cool event\"\n",
    "e.begin = due_dt.strftime(date_format) # Updated this to use date_format\n",
    "c.events.add(e)\n",
    "c.events\n",
    "# [<Event 'My cool event' begin:2014-01-01 00:00:00 end:2014-01-01 00:00:01>]\n",
    "with open('my.ics', 'w') as my_file:\n",
    "    my_file.writelines(c)\n"
   ]
  },
  {
   "cell_type": "code",
   "execution_count": 75,
   "metadata": {},
   "outputs": [
    {
     "data": {
      "text/plain": [
       "datetime.datetime(2021, 2, 1, 8, 0, tzinfo=tzutc())"
      ]
     },
     "execution_count": 75,
     "metadata": {},
     "output_type": "execute_result"
    }
   ],
   "source": [
    "due_dt"
   ]
  },
  {
   "cell_type": "code",
   "execution_count": null,
   "metadata": {},
   "outputs": [],
   "source": []
  }
 ],
 "metadata": {
  "kernelspec": {
   "display_name": "Python 3",
   "language": "python",
   "name": "python3"
  },
  "language_info": {
   "codemirror_mode": {
    "name": "ipython",
    "version": 3
   },
   "file_extension": ".py",
   "mimetype": "text/x-python",
   "name": "python",
   "nbconvert_exporter": "python",
   "pygments_lexer": "ipython3",
   "version": "3.8.3"
  }
 },
 "nbformat": 4,
 "nbformat_minor": 4
}
